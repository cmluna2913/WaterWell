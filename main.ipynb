{
 "cells": [
  {
   "cell_type": "markdown",
   "metadata": {},
   "source": [
    "# Data Cleaning and Modeling\n",
    "This notebook is to import, clean, and save data from the specified paths in config.ini\n",
    "\n",
    "\n",
    "These variables are for transforming the challenge's *.csv* files.\n",
    "* *to_drop*\n",
    "<br>A list of columns to drop from the data.\n",
    "* *dtype_dict*\n",
    "<br>A dictionary containing the specified dtypes for columns.\n",
    "* *fillna_dict*\n",
    "<br>A dictionary containing fill values for missing data. This is for the cleaning\n",
    "process.\n",
    "---"
   ]
  },
  {
   "cell_type": "markdown",
   "metadata": {},
   "source": [
    "Import needed libraries and created functions. Additional libraries are imported\n",
    "through *src.etl_functions*"
   ]
  },
  {
   "cell_type": "code",
   "execution_count": 1,
   "metadata": {},
   "outputs": [],
   "source": [
    "import sys \n",
    "sys.path.append('../')\n",
    "# Imports needed libraries\n",
    "# and created functions\n",
    "from src.etl_functions import *\n",
    "import warnings\n",
    "warnings.filterwarnings(\"ignore\")"
   ]
  },
  {
   "cell_type": "markdown",
   "metadata": {},
   "source": [
    "Import configuration"
   ]
  },
  {
   "cell_type": "code",
   "execution_count": 2,
   "metadata": {},
   "outputs": [
    {
     "data": {
      "text/plain": [
       "['src/config.ini']"
      ]
     },
     "execution_count": 2,
     "metadata": {},
     "output_type": "execute_result"
    }
   ],
   "source": [
    "config = configparser.ConfigParser()\n",
    "config.read(\"src/config.ini\")"
   ]
  },
  {
   "cell_type": "markdown",
   "metadata": {},
   "source": [
    "Import output, train_data, and test data paths. Import train labels and submission\n",
    "form example from *.csv* files"
   ]
  },
  {
   "cell_type": "code",
   "execution_count": 3,
   "metadata": {},
   "outputs": [],
   "source": [
    "# Specified output path\n",
    "output = config['paths']['data_path']\n",
    "# Specified data paths\n",
    "trn_data = config['paths']['train_data']\n",
    "trn_lbls = pd.read_csv(config['paths']['train_labels'])\n",
    "tst_data = config['paths']['test_data']\n",
    "# Import submission format\n",
    "sub_form = pd.read_csv(config['paths']['sub_form'])"
   ]
  },
  {
   "cell_type": "markdown",
   "metadata": {},
   "source": [
    "Inputs that you can modify here.\n",
    "\n",
    "*to_drop*\n",
    "Columns that will be dropped and excluded from data\n",
    "\n",
    "*fill_dict*\n",
    "Dictionary to fill null values\n",
    "\n",
    "*dtype_dict*\n",
    "Dictionary to import columns as specific datatypes. Only works with the original\n",
    "*.csv* files. This is applied to the original *.csv* files provided for the \n",
    "challenge.\n",
    "\n",
    "*n*\n",
    "The limit for categorical columns. Categorical columns will be limited to having\n",
    "at most *n*+1 categories. Default is 20 if not specified."
   ]
  },
  {
   "cell_type": "code",
   "execution_count": 4,
   "metadata": {},
   "outputs": [],
   "source": [
    "to_drop = ['extraction_type', 'extraction_type_group',\n",
    "            'management_group',\n",
    "            'payment_type',\n",
    "            'quantity_group',\n",
    "            'source_type','source_class', \n",
    "            'waterpoint_type_group',\n",
    "            'district_code', \n",
    "            'construction_year',\n",
    "            'num_private',\n",
    "            'recorded_by',\n",
    "            'id',\n",
    "            'scheme_name', \n",
    "            'date_recorded']\n",
    "\n",
    "fill_dict = {'funder':'Other',\n",
    "                'installer': 'Other',\n",
    "                'subvillage': 'Other', \n",
    "                'public_meeting': False,\n",
    "                'scheme_management': 'Unknown',\n",
    "                'permit': False}\n",
    "\n",
    "dtype_dict = {'amount_tsh': 'float32',\n",
    "            'funder': 'category',\n",
    "            'gps_height': 'int16',\n",
    "            'installer': 'category',\n",
    "            'longitude': 'float16',\n",
    "            'latitude': 'float16',\n",
    "            'wpt_name': 'category',\n",
    "            'num_private': 'int16',\n",
    "            'basin': 'category',\n",
    "            'subvillage': 'category',\n",
    "            'region': 'category',\n",
    "            'region_code': 'int8',\n",
    "            'district_code': 'int8',\n",
    "            'lga': 'category',\n",
    "            'ward': 'category',\n",
    "            'population': 'int16',\n",
    "            'recorded_by': 'category',\n",
    "            'scheme_management': 'category',\n",
    "            'construction_year': 'int16',\n",
    "            'extraction_type': 'category',\n",
    "            'extraction_type_group': 'category',\n",
    "            'extraction_type_class': 'category',\n",
    "            'management': 'category',\n",
    "            'management_group': 'category',\n",
    "            'payment': 'category',\n",
    "            'payment_type': 'category',\n",
    "            'water_quality': 'category',\n",
    "            'quality_group': 'category',\n",
    "            'quantity': 'category',\n",
    "            'quantity_group': 'category',\n",
    "            'source': 'category',\n",
    "            'source_type': 'category',\n",
    "            'source_class': 'category',\n",
    "            'waterpoint_type': 'category',\n",
    "            'waterpoint_type_group': 'category'}"
   ]
  },
  {
   "cell_type": "markdown",
   "metadata": {},
   "source": [
    "Clean the given training and testing datasets. This can be given as either a \n",
    "dataframe or a data path."
   ]
  },
  {
   "cell_type": "code",
   "execution_count": 5,
   "metadata": {},
   "outputs": [
    {
     "name": "stdout",
     "output_type": "stream",
     "text": [
      "Cleaning successful.\n",
      "Associated time is 280722_1007PM\n"
     ]
    }
   ],
   "source": [
    "train_df, test_df, exp_output = get_cleaned_sets(trn_data,tst_data, to_drop, output, fill_dict,\n",
    "                                                dtype_dict=dtype_dict,\n",
    "                                                return_output=True)"
   ]
  },
  {
   "cell_type": "markdown",
   "metadata": {},
   "source": [
    "# Modeling"
   ]
  },
  {
   "cell_type": "markdown",
   "metadata": {},
   "source": [
    "Remove *id* from the training labels. Set the labels as index to preserve order."
   ]
  },
  {
   "cell_type": "code",
   "execution_count": 6,
   "metadata": {},
   "outputs": [],
   "source": [
    "trn_lbls.index=trn_lbls['id']\n",
    "trn_lbls.drop(columns='id', inplace=True)\n"
   ]
  },
  {
   "cell_type": "markdown",
   "metadata": {},
   "source": [
    "Make a random forest model and make predictions. Save the predictions as a \n",
    "*submission.csv* file to submit for the challenge. Append the model parameters\n",
    "to the experiment output directory."
   ]
  },
  {
   "cell_type": "code",
   "execution_count": 7,
   "metadata": {},
   "outputs": [],
   "source": [
    "rf = RandomForestClassifier(n_estimators=150, random_state=42)\n",
    "rf.fit(train_df, trn_lbls)\n",
    "preds = rf.predict(test_df)\n",
    "sub_form['status_group'] = preds\n",
    "sub_form.to_csv(f'{exp_output}submission.csv',index=False)\n",
    "with open(f\"{exp_output}experiment_notes.txt\", 'a') as f:\n",
    "        f.write(str(rf.set_params()))"
   ]
  },
  {
   "cell_type": "code",
   "execution_count": 8,
   "metadata": {},
   "outputs": [
    {
     "data": {
      "text/html": [
       "<div>\n",
       "<style scoped>\n",
       "    .dataframe tbody tr th:only-of-type {\n",
       "        vertical-align: middle;\n",
       "    }\n",
       "\n",
       "    .dataframe tbody tr th {\n",
       "        vertical-align: top;\n",
       "    }\n",
       "\n",
       "    .dataframe thead th {\n",
       "        text-align: right;\n",
       "    }\n",
       "</style>\n",
       "<table border=\"1\" class=\"dataframe\">\n",
       "  <thead>\n",
       "    <tr style=\"text-align: right;\">\n",
       "      <th></th>\n",
       "      <th>id</th>\n",
       "      <th>status_group</th>\n",
       "    </tr>\n",
       "  </thead>\n",
       "  <tbody>\n",
       "    <tr>\n",
       "      <th>0</th>\n",
       "      <td>50785</td>\n",
       "      <td>non functional</td>\n",
       "    </tr>\n",
       "    <tr>\n",
       "      <th>1</th>\n",
       "      <td>51630</td>\n",
       "      <td>functional</td>\n",
       "    </tr>\n",
       "    <tr>\n",
       "      <th>2</th>\n",
       "      <td>17168</td>\n",
       "      <td>functional</td>\n",
       "    </tr>\n",
       "    <tr>\n",
       "      <th>3</th>\n",
       "      <td>45559</td>\n",
       "      <td>non functional</td>\n",
       "    </tr>\n",
       "    <tr>\n",
       "      <th>4</th>\n",
       "      <td>49871</td>\n",
       "      <td>functional</td>\n",
       "    </tr>\n",
       "    <tr>\n",
       "      <th>...</th>\n",
       "      <td>...</td>\n",
       "      <td>...</td>\n",
       "    </tr>\n",
       "    <tr>\n",
       "      <th>14845</th>\n",
       "      <td>39307</td>\n",
       "      <td>non functional</td>\n",
       "    </tr>\n",
       "    <tr>\n",
       "      <th>14846</th>\n",
       "      <td>18990</td>\n",
       "      <td>functional</td>\n",
       "    </tr>\n",
       "    <tr>\n",
       "      <th>14847</th>\n",
       "      <td>28749</td>\n",
       "      <td>functional</td>\n",
       "    </tr>\n",
       "    <tr>\n",
       "      <th>14848</th>\n",
       "      <td>33492</td>\n",
       "      <td>functional</td>\n",
       "    </tr>\n",
       "    <tr>\n",
       "      <th>14849</th>\n",
       "      <td>68707</td>\n",
       "      <td>non functional</td>\n",
       "    </tr>\n",
       "  </tbody>\n",
       "</table>\n",
       "<p>14850 rows × 2 columns</p>\n",
       "</div>"
      ],
      "text/plain": [
       "          id    status_group\n",
       "0      50785  non functional\n",
       "1      51630      functional\n",
       "2      17168      functional\n",
       "3      45559  non functional\n",
       "4      49871      functional\n",
       "...      ...             ...\n",
       "14845  39307  non functional\n",
       "14846  18990      functional\n",
       "14847  28749      functional\n",
       "14848  33492      functional\n",
       "14849  68707  non functional\n",
       "\n",
       "[14850 rows x 2 columns]"
      ]
     },
     "execution_count": 8,
     "metadata": {},
     "output_type": "execute_result"
    }
   ],
   "source": [
    "sub_form"
   ]
  }
 ],
 "metadata": {
  "kernelspec": {
   "display_name": "Python 3.10.4 ('updated')",
   "language": "python",
   "name": "python3"
  },
  "language_info": {
   "codemirror_mode": {
    "name": "ipython",
    "version": 3
   },
   "file_extension": ".py",
   "mimetype": "text/x-python",
   "name": "python",
   "nbconvert_exporter": "python",
   "pygments_lexer": "ipython3",
   "version": "3.10.4"
  },
  "orig_nbformat": 4,
  "vscode": {
   "interpreter": {
    "hash": "60c31c2418e11a1ea5e74811c13c7cd65159d5f4bb1d07ff0084657bded7dcb8"
   }
  }
 },
 "nbformat": 4,
 "nbformat_minor": 2
}
